{
 "cells": [
  {
   "attachments": {},
   "cell_type": "markdown",
   "metadata": {},
   "source": [
    "# Visualization of 3D local thickness\n",
    "\n",
    "All examples below show the local thickness of the small test volume. \n",
    "\n",
    ":warning: **The examples are written such that you should run only one of the cells. Restart the kernel when trying different approach. You should be able to find a visualization option which works on your setup.** "
   ]
  },
  {
   "attachments": {},
   "cell_type": "markdown",
   "metadata": {},
   "source": [
    "## Approach 1: Use interactive slicer from localthickness\n",
    "\n",
    "You can use interactive matplotlib figure. However, this depends on how you run python and requires an appropriate matplotlib [backend](https://matplotlib.org/stable/users/explain/backends.html). If you setup supports interactive figures using `Qt5Agg` backend, the code below will start the interactive figure in a new window. You can use keybord keys (`left`/`a`, `right`/`d`, `up`/`w`, `down`/`z`, `pageup`/`e`, and `pagedown`/`x`) to inspect the slices of the volume. Make sure that the window is active (click into the colored part of the figure), and try interactive keys, e.g. `a` and `d`. Some keys might be reserved for other commands (e.g. left brings previous zoom level) so try finding out what works for you.\n",
    "\n",
    "If the figure does not show, or is not interactive, try some other (interactive) backends as shown below. Remember to restart the kernel when changing the backend. In IPython, you can activate backends using magic commands. \n",
    "`` \n",
    "matplotlib.use('Qt5Agg')  # Change matplotlib backend to something, here Qt5Agg, also try TkAgg\n",
    "``\n",
    "\n",
    "``\n",
    "%matplotlib qt  # Activate backend in IPython, here qt, try also tk\n",
    "``\n",
    "\n",
    ":warning: **You should restar the kernel when moving to other approaches 2 after trying approach 1.**"
   ]
  },
  {
   "cell_type": "code",
   "execution_count": 2,
   "metadata": {},
   "outputs": [],
   "source": [
    "# visulizing slices of the volume\n",
    "import matplotlib\n",
    "import localthickness as lt\n",
    "import tifffile\n",
    "\n",
    "matplotlib.use('Qt5Agg')\n",
    "\n",
    "B = tifffile.imread('data/cotton_test_volume.tif') > 0\n",
    "T = lt.local_thickness(B, scale=0.25)\n",
    "\n",
    "lt.show_vol(T, cmap=lt.black_plasma())\n"
   ]
  },
  {
   "attachments": {},
   "cell_type": "markdown",
   "metadata": {},
   "source": [
    "## Approach 2: Show slices using ipywidgets\n",
    "\n",
    ":warning: **You shoul restar the kernel when moving to approach 2 after trying approach 1.**"
   ]
  },
  {
   "cell_type": "code",
   "execution_count": null,
   "metadata": {},
   "outputs": [],
   "source": [
    "import localthickness as lt\n",
    "import tifffile\n",
    "from ipywidgets import interact\n",
    "\n",
    "B = tifffile.imread('data/cotton_test_volume.tif') > 0\n",
    "T = lt.local_thickness(B, scale=0.25)\n",
    "\n",
    "interact(lambda z: lt.view_thickness_slice(z, T, T.max()), z=(0, T.shape[0]-1));\n",
    "\n",
    "\n"
   ]
  },
  {
   "attachments": {},
   "cell_type": "markdown",
   "metadata": {},
   "source": [
    "## Approach 3: Use plotly for 3D visualization\n",
    "With [plotly](https://plot.ly/python/) we can see the data and the thickness as an interactive 3D visualization. __Be patient__, tt may take up to a minute for plotly to produce a figure. "
   ]
  },
  {
   "cell_type": "code",
   "execution_count": null,
   "metadata": {},
   "outputs": [],
   "source": [
    "import localthickness as lt\n",
    "import tifffile\n",
    "import plotly.graph_objects as go\n",
    "import numpy as np\n",
    "\n",
    "B = tifffile.imread('data/cotton_test_volume.tif') > 0\n",
    "T = lt.local_thickness(B, scale=0.25)\n",
    "\n",
    "\n",
    "X, Y, Z = np.mgrid[range(B.shape[0]), range(B.shape[1]), range(B.shape[2])]\n",
    "\n",
    "fig = go.Figure(data = go.Volume(x=X.flatten(), y=Y.flatten(), z=Z.flatten(), value=T.flatten(),\n",
    "    isomin=0, isomax=T.max(), opacity=0.1, surface_count=15, colorscale = lt.pl_black_plasma()))\n",
    "fig.show()"
   ]
  },
  {
   "attachments": {},
   "cell_type": "markdown",
   "metadata": {},
   "source": [
    "## Approach 4: Save and show in paraview\n",
    "\n",
    "To show thickness in paraview:\n",
    "- Load both `*_gray.tif` and `*_rgba.tif` volume. Apply.\n",
    "- Select **both** volumes, and via right-click menu add filter `Append Attributes`. Apply.\n",
    "- Select the new data and add filter `Contour`.\n",
    "- Select contour and change following properties (you might need to click cogwheel icon to access all properties)\n",
    "  - In **Isosurfaces** adjust the first (only) isovalue to 127.5,\n",
    "  - In **Coloring** choose Tiff_Scalars_input1 (or Tiff_Scalars, depending on whether you first read rgba volume or gray),\n",
    "  - In **Scalar Coloring**, turn off Map Scalars."
   ]
  },
  {
   "cell_type": "code",
   "execution_count": 1,
   "metadata": {},
   "outputs": [],
   "source": [
    "import localthickness as lt\n",
    "import tifffile\n",
    "import plotly.graph_objects as go\n",
    "import numpy as np\n",
    "\n",
    "B = tifffile.imread('data/cotton_test_volume.tif') > 0\n",
    "T = lt.local_thickness(B, scale=0.25)\n",
    "\n",
    "lt.save_thickness_volumes(T, 'demo_thickness')"
   ]
  },
  {
   "attachments": {},
   "cell_type": "markdown",
   "metadata": {},
   "source": [
    "The volume should now show as in the screenshot below.\n",
    "\n",
    "<img src=\"cotton_vis.png\" width=\"50%\" height=\"50%\">\n"
   ]
  },
  {
   "attachments": {},
   "cell_type": "markdown",
   "metadata": {},
   "source": [
    "## Other saving options\n"
   ]
  },
  {
   "cell_type": "code",
   "execution_count": 12,
   "metadata": {},
   "outputs": [],
   "source": [
    "import localthickness as lt\n",
    "import tifffile\n",
    "import plotly.graph_objects as go\n",
    "import numpy as np\n",
    "\n",
    "B = tifffile.imread('data/cotton_test_volume.tif') > 0\n",
    "T = lt.local_thickness(B, scale=0.25)\n",
    "\n",
    "T = T/T.max()  # Omit this if you need absolute values\n",
    "rgba = lt.black_plasma()(T)\n",
    "rgba = (255*rgba).astype(np.uint8)\n",
    "\n",
    "tifffile.imsave('test_T.tif', T)\n",
    "tifffile.imsave('test_rgba.tif', rgba, photometric='rgb', extrasamples = 'ASSOCALPHA')\n"
   ]
  },
  {
   "cell_type": "code",
   "execution_count": null,
   "metadata": {},
   "outputs": [],
   "source": []
  }
 ],
 "metadata": {
  "kernelspec": {
   "display_name": "volumetric",
   "language": "python",
   "name": "python3"
  },
  "language_info": {
   "codemirror_mode": {
    "name": "ipython",
    "version": 3
   },
   "file_extension": ".py",
   "mimetype": "text/x-python",
   "name": "python",
   "nbconvert_exporter": "python",
   "pygments_lexer": "ipython3",
   "version": "3.9.13"
  },
  "orig_nbformat": 4
 },
 "nbformat": 4,
 "nbformat_minor": 2
}
