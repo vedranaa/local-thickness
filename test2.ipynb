{
 "cells": [
  {
   "attachments": {},
   "cell_type": "markdown",
   "metadata": {},
   "source": [
    "# Visualization of 3D local thickness\n",
    "\n",
    "All examples below show the local thickness of the small test volume. \n",
    "\n",
    "| ⚠ WARNING: The examples are written such that you should run only one of the cells. Restart the kernel when trying different approach. You should be able to find a visualization option which works on your setup. |\n",
    "| --- |\n",
    "\n",
    "All examples below show the local thickness of the small test volume. \n",
    "\n",
    "> **⚠ WARNING: The examples are written such that you should run only one of the cells. Restart the kernel when trying different approach. You should be able to find a visualization option which works on your setup.**  \n"
   ]
  },
  {
   "attachments": {},
   "cell_type": "markdown",
   "metadata": {},
   "source": [
    "## Approach 1: Use interactive slicer from localthickness\n",
    "\n",
    "You can use interactive matplotlib figure. However, this depends on how you run python and requires an appropriate matplotlib [backend](https://matplotlib.org/stable/users/explain/backends.html). If you setup supports interactive figures using `Qt5Agg` backend, the code below will start the interactive figure in a new window. You can use keybord keys (`left`/`a`, `right`/`d`, `up`/`w`, `down`/`z`, `pageup`/`e`, and `pagedown`/`x`) to inspect the slices of the volume. Make sure that the window is active (click into the colored part of the figure), and try interactive keys, e.g. `a` and `d`. Some keys might be reserved for other commands (e.g. left brings previous zoom level) so try finding out what works for you.\n",
    "\n",
    "If the figure does not show, or is not interactive, try some other (interactive) backends as shown below. Remember to restart the kernel when changing the backend. In IPython, you can activate backends using magic commands. \n",
    "``` \n",
    "matplotlib.use('Qt5Agg')  # Change matplotlib backend to something, here Qt5Agg, also try TkAgg\n",
    "```\n",
    "\n",
    "```\n",
    "%matplotlib qt  # Activate backend in IPython, here qt, try also tk\n",
    "```\n",
    "\n",
    "> **⚠ WARNING: You should restar the kernel when moving to other approaches 2 after trying approach 1.**"
   ]
  },
  {
   "cell_type": "code",
   "execution_count": null,
   "metadata": {},
   "outputs": [],
   "source": []
  }
 ],
 "metadata": {
  "kernelspec": {
   "display_name": "volumetric",
   "language": "python",
   "name": "python3"
  },
  "language_info": {
   "codemirror_mode": {
    "name": "ipython",
    "version": 3
   },
   "file_extension": ".py",
   "mimetype": "text/x-python",
   "name": "python",
   "nbconvert_exporter": "python",
   "pygments_lexer": "ipython3",
   "version": "3.9.13"
  },
  "orig_nbformat": 4
 },
 "nbformat": 4,
 "nbformat_minor": 2
}
