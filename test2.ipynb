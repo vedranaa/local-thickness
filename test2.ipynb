{
 "cells": [
  {
   "attachments": {},
   "cell_type": "markdown",
   "metadata": {},
   "source": [
    "# Visualization of 3D local thickness\n",
    "\n",
    "All examples below show the local thickness of the small test volume. \n",
    "\n",
    "| ⚠ WARNING: The examples are written such that you should run only one of the cells. Restart the kernel when trying different approach. You should be able to find a visualization option which works on your setup. |\n",
    "| --- |\n",
    "\n",
    "All examples below show the local thickness of the small test volume. \n",
    "\n",
    "> **⚠ WARNING: The examples are written such that you should run only one of the cells. Restart the kernel when trying different approach. You should be able to find a visualization option which works on your setup.**  \n"
   ]
  },
  {
   "cell_type": "code",
   "execution_count": null,
   "metadata": {},
   "outputs": [],
   "source": []
  },
  {
   "cell_type": "code",
   "execution_count": 2,
   "metadata": {},
   "outputs": [],
   "source": [
    "# visulizing slices of the volume\n",
    "import matplotlib\n",
    "import localthickness as lt\n",
    "import tifffile\n",
    "\n",
    "matplotlib.use('Qt5Agg')\n",
    "\n",
    "B = tifffile.imread('data/cotton_test_volume.tif') > 0\n",
    "T = lt.local_thickness(B, scale=0.25)\n",
    "\n",
    "lt.show_vol(T, cmap=lt.black_plasma())\n"
   ]
  },
  {
   "cell_type": "code",
   "execution_count": null,
   "metadata": {},
   "outputs": [],
   "source": []
  }
 ],
 "metadata": {
  "kernelspec": {
   "display_name": "volumetric",
   "language": "python",
   "name": "python3"
  },
  "language_info": {
   "codemirror_mode": {
    "name": "ipython",
    "version": 3
   },
   "file_extension": ".py",
   "mimetype": "text/x-python",
   "name": "python",
   "nbconvert_exporter": "python",
   "pygments_lexer": "ipython3",
   "version": "3.9.13"
  },
  "orig_nbformat": 4
 },
 "nbformat": 4,
 "nbformat_minor": 2
}
