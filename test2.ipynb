{
 "cells": [
  {
   "attachments": {},
   "cell_type": "markdown",
   "metadata": {},
   "source": [
    "# Visualization of 3D local thickness\n",
    "\n",
    "All examples below show the local thickness of the small test volume. \n",
    "\n",
    ":warning: **The examples are written such that you should run only one of the cells. Restart the kernel when trying different approach. You should be able to find a visualization option which works on your setup.** "
   ]
  }
 ],
 "metadata": {
  "language_info": {
   "name": "python"
  },
  "orig_nbformat": 4
 },
 "nbformat": 4,
 "nbformat_minor": 2
}
