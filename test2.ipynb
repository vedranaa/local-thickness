{
 "cells": [
  {
   "attachments": {},
   "cell_type": "markdown",
   "metadata": {},
   "source": [
    "# Visualization of 3D local thickness\n",
    "\n",
    "All examples below show the local thickness of the small test volume. \n",
    "\n",
    "**Warning**\n",
    "**The examples are written such that you should run only one of the cells. Restart the kernel when trying different approach. You should be able to find a visualization option which works on your setup.** \n",
    "\n",
    "| ⚠ WARNING: be careful to baz the quux before initializing the retro encabulator! |\n",
    "| --- |\n",
    "\n",
    "bla bla bal\n",
    "\n",
    "> **Warning**\n",
    "> This is a warning\n",
    "\n",
    "\n",
    "> **WARNING**: Be careful, or else!\n",
    "\n",
    "\n",
    "> **⚠ WARNING: Aliens are coming.**  \n"
   ]
  },
  {
   "cell_type": "markdown",
   "metadata": {},
   "source": []
  }
 ],
 "metadata": {
  "language_info": {
   "name": "python"
  },
  "orig_nbformat": 4
 },
 "nbformat": 4,
 "nbformat_minor": 2
}
