{
 "cells": [
  {
   "attachments": {},
   "cell_type": "markdown",
   "metadata": {},
   "source": [
    "# Visualization of 3D local thickness\n",
    "\n",
    "All examples below show the local thickness of the small test volume. \n",
    "\n",
    "| ⚠ WARNING: The examples are written such that you should run only one of the cells. Restart the kernel when trying different approach. You should be able to find a visualization option which works on your setup. |\n",
    "| --- |\n",
    "\n",
    "All examples below show the local thickness of the small test volume. \n",
    "\n",
    "> **⚠ WARNING: The examples are written such that you should run only one of the cells. Restart the kernel when trying different approach. You should be able to find a visualization option which works on your setup.**  \n"
   ]
  },
  {
   "attachments": {},
   "cell_type": "markdown",
   "metadata": {},
   "source": [
    "## Approach 1: Use interactive slicer from localthickness\n",
    "\n",
    "You can use interactive matplotlib figure. However, this depends on how you run python and requires an appropriate matplotlib [backend](https://matplotlib.org/stable/users/explain/backends.html). If you setup supports interactive figures using `Qt5Agg` backend, the code below will start the interactive figure in a new window. You can use keybord keys (`left`/`a`, `right`/`d`, `up`/`w`, `down`/`z`, `pageup`/`e`, and `pagedown`/`x`) to inspect the slices of the volume. Make sure that the window is active (click into the colored part of the figure), and try interactive keys, e.g. `a` and `d`. Some keys might be reserved for other commands (e.g. left brings previous zoom level) so try finding out what works for you.\n",
    "\n",
    "If the figure does not show, or is not interactive, try some other (interactive) backends as shown below. Remember to restart the kernel when changing the backend. In IPython, you can activate backends using magic commands. \n",
    "\n",
    "\n",
    "> **⚠ WARNING: You should restar the kernel when moving to other approaches 2 after trying approach 1.**"
   ]
  },
  {
   "cell_type": "code",
   "execution_count": 2,
   "metadata": {},
   "outputs": [],
   "source": [
    "# visulizing slices of the volume\n",
    "import matplotlib\n",
    "import localthickness as lt\n",
    "import tifffile\n",
    "\n",
    "matplotlib.use('Qt5Agg')\n",
    "\n",
    "B = tifffile.imread('data/cotton_test_volume.tif') > 0\n",
    "T = lt.local_thickness(B, scale=0.25)\n",
    "\n",
    "lt.show_vol(T, cmap=lt.black_plasma())\n"
   ]
  },
  {
   "cell_type": "code",
   "execution_count": null,
   "metadata": {},
   "outputs": [],
   "source": []
  }
 ],
 "metadata": {
  "kernelspec": {
   "display_name": "volumetric",
   "language": "python",
   "name": "python3"
  },
  "language_info": {
   "codemirror_mode": {
    "name": "ipython",
    "version": 3
   },
   "file_extension": ".py",
   "mimetype": "text/x-python",
   "name": "python",
   "nbconvert_exporter": "python",
   "pygments_lexer": "ipython3",
   "version": "3.9.13"
  },
  "orig_nbformat": 4
 },
 "nbformat": 4,
 "nbformat_minor": 2
}
