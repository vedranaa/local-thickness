{
 "cells": [
  {
   "attachments": {},
   "cell_type": "markdown",
   "metadata": {},
   "source": [
    "This is a test\n",
    "```\n",
    "triple backticks and 'backticks'\n",
    "```\n",
    "\n",
    "```\n",
    "matplotlib.use('Qt5Agg')  # Change matplotlib backend to something, here Qt5Agg, also try TkAgg\n",
    "```"
   ]
  }
 ],
 "metadata": {
  "language_info": {
   "name": "python"
  },
  "orig_nbformat": 4
 },
 "nbformat": 4,
 "nbformat_minor": 2
}
