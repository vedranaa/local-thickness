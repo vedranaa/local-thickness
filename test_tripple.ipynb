{
 "cells": [
  {
   "attachments": {},
   "cell_type": "markdown",
   "metadata": {},
   "source": [
    "This is a test\n",
    "```\n",
    "triple backticks and 'backticks'\n",
    "```\n",
    "\n",
    "\n",
    "```\n",
    "%matplotlib qt  # Activate backend in IPython, here qt, try also tk\n",
    "```"
   ]
  }
 ],
 "metadata": {
  "language_info": {
   "name": "python"
  },
  "orig_nbformat": 4
 },
 "nbformat": 4,
 "nbformat_minor": 2
}
